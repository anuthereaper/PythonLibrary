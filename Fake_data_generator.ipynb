{
  "nbformat": 4,
  "nbformat_minor": 0,
  "metadata": {
    "colab": {
      "name": "Fake data generator.ipynb",
      "provenance": [],
      "collapsed_sections": [],
      "authorship_tag": "ABX9TyPPHeT3JMXEi6uOq5Yw9e7U",
      "include_colab_link": true
    },
    "kernelspec": {
      "name": "python3",
      "display_name": "Python 3"
    },
    "language_info": {
      "name": "python"
    }
  },
  "cells": [
    {
      "cell_type": "markdown",
      "metadata": {
        "id": "view-in-github",
        "colab_type": "text"
      },
      "source": [
        "<a href=\"https://colab.research.google.com/github/anuthereaper/PythonLibrary/blob/main/Fake_data_generator.ipynb\" target=\"_parent\"><img src=\"https://colab.research.google.com/assets/colab-badge.svg\" alt=\"Open In Colab\"/></a>"
      ]
    },
    {
      "cell_type": "markdown",
      "metadata": {
        "id": "g1qsU9UJ8Qtu"
      },
      "source": [
        "https://pypi.org/project/Faker/"
      ]
    },
    {
      "cell_type": "code",
      "metadata": {
        "id": "s02vpZFbYrW2"
      },
      "source": [
        "pip install faker"
      ],
      "execution_count": null,
      "outputs": []
    },
    {
      "cell_type": "code",
      "metadata": {
        "id": "bva5yUy9YgDq"
      },
      "source": [
        "# Create 200 fake profiles\n",
        "from faker import Faker\n",
        "\n",
        "faker = Faker(\"en_GB\")\n",
        "print(faker.date())\n",
        "\n",
        "contact = [faker.profile() for i in range(0, 200)]\n",
        "print(contact)"
      ],
      "execution_count": null,
      "outputs": []
    },
    {
      "cell_type": "code",
      "metadata": {
        "id": "Sct9wvgDY0pX"
      },
      "source": [
        "print(faker.first_name())\n",
        "print(faker.email())\n",
        "print(faker.name())\n",
        "print(faker.date())\n",
        "print(faker.address())\n",
        "print(faker.credit_card_number())"
      ],
      "execution_count": null,
      "outputs": []
    }
  ]
}