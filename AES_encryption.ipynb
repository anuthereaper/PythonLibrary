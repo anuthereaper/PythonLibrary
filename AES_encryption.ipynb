{
  "nbformat": 4,
  "nbformat_minor": 0,
  "metadata": {
    "colab": {
      "name": "AES encryption.ipynb",
      "provenance": [],
      "collapsed_sections": [],
      "authorship_tag": "ABX9TyM7ql0pHjZVnlC4/i16UQMI",
      "include_colab_link": true
    },
    "kernelspec": {
      "name": "python3",
      "display_name": "Python 3"
    },
    "language_info": {
      "name": "python"
    }
  },
  "cells": [
    {
      "cell_type": "markdown",
      "metadata": {
        "id": "view-in-github",
        "colab_type": "text"
      },
      "source": [
        "<a href=\"https://colab.research.google.com/github/anuthereaper/PythonLibrary/blob/main/AES_encryption.ipynb\" target=\"_parent\"><img src=\"https://colab.research.google.com/assets/colab-badge.svg\" alt=\"Open In Colab\"/></a>"
      ]
    },
    {
      "cell_type": "code",
      "metadata": {
        "id": "if_1SeqOd6xD"
      },
      "source": [
        "!pip install PyCryptodome"
      ],
      "execution_count": null,
      "outputs": []
    },
    {
      "cell_type": "code",
      "metadata": {
        "id": "_ORE5LRmdOO-"
      },
      "source": [
        "#Encryption\n",
        "from Crypto.Cipher import AES\n",
        "import hashlib\n",
        " \n",
        "password = \"asdfasdkasdfhasdfpasdf3l\"\n",
        "#key = hashlib.sha256(password).digest()\n",
        "key = bytes(password, 'utf-8')\n",
        "mode = AES.MODE_CBC\n",
        "IV = bytes('This is an IV456', 'utf-8')\n",
        " \n",
        "def pad_message(message):\n",
        "  while len(message) % 16!= 0:\n",
        "    message += ' '\n",
        "  return message\n",
        " \n",
        "cipher = AES.new(key, mode, IV)\n",
        "with open('/content/sample_data/california_housing_test.csv', \"r\",newline='') as csv_file:\n",
        "    message = csv_file.read()\n",
        "padded_message = pad_message(message)    \n",
        " \n",
        "encrypted_text = cipher.encrypt(bytes(padded_message, 'utf-8'))\n",
        "#print(encrypted_text)\n",
        "with open('/content/sample_data/california_housing_test.csv.enc', \"wb\") as text_file:\n",
        "    text_file.write(encrypted_text)"
      ],
      "execution_count": null,
      "outputs": []
    },
    {
      "cell_type": "code",
      "metadata": {
        "id": "lP6OAkuOfN-i"
      },
      "source": [
        "#Decryption\n",
        "from Crypto.Cipher import AES\n",
        "import hashlib\n",
        " \n",
        "password = \"asdfasdkasdfhasdfpasdf3l\"\n",
        "#key = hashlib.sha256(password).digest()\n",
        "key = bytes(password, 'utf-8')\n",
        "mode = AES.MODE_CBC\n",
        "IV = bytes('This is an IV456', 'utf-8')\n",
        " \n",
        "def pad_message(message):\n",
        "  while len(message) % 16!= 0:\n",
        "    message += ' '\n",
        "  return message\n",
        " \n",
        " \n",
        "cipher = AES.new(key, mode, IV)\n",
        "with open('/content/sample_data/california_housing_test.csv.enc', \"rb\") as csv_file:\n",
        "    message = csv_file.read()\n",
        "print(message)\n",
        "#encrypted_text = bytes(message,'utf-8')\n",
        "#encrypted_text = pad_message(message)   \n",
        "decrypted_text = cipher.decrypt(message)\n",
        "decrypted_text = str(decrypted_text.rstrip().decode(\"utf-8\"))   # strip of the suffix padding\n",
        "print(decrypted_text)\n",
        "with open('/content/sample_data/california_housing_test_decrypted.csv', \"w\") as text_file:\n",
        "    text_file.write(decrypted_text)"
      ],
      "execution_count": null,
      "outputs": []
    },
    {
      "cell_type": "code",
      "metadata": {
        "id": "3ilL_VADfREX"
      },
      "source": [
        "# This compares the original file with the decrypted file.\n",
        " \n",
        "import sys\n",
        "import hashlib\n",
        " \n",
        "def hashfile(file):\n",
        "    # A arbitrary (but fixed) buffer size (change accordingly)\n",
        "    # 65536 = 65536 bytes = 64 kilobytes\n",
        "    BUF_SIZE = 65536\n",
        "    # Initializing the sha256() method\n",
        "    sha256 = hashlib.sha256()\n",
        "    # Opening the file provided as\n",
        "    # the first commandline argument\n",
        "    with open(file, 'rb') as f:\n",
        "        while True:\n",
        "            # reading data = BUF_SIZE from the file and saving it in a\n",
        "            # variable\n",
        "            data = f.read(BUF_SIZE)\n",
        "            # True if eof = 1\n",
        "            if not data:\n",
        "                break\n",
        "            # Passing that data to that sh256 hash function (updating the function with that data)\n",
        "            sha256.update(data)\n",
        "      \n",
        "    # sha256.hexdigest() hashes all the input\n",
        "    # data passed to the sha256() via sha256.update()\n",
        "    # Acts as a finalize method, after which\n",
        "    # all the input data gets hashed hexdigest()\n",
        "    # hashes the data, and returns the output\n",
        "    # in hexadecimal format\n",
        "    return sha256.hexdigest()\n",
        " \n",
        "# Calling hashfile() function to obtain hashes of the files, and saving the result in a variable\n",
        "Initial_hash = hashfile('/content/sample_data/california_housing_test.csv')\n",
        "Decrypted_hash = hashfile('/content/sample_data/california_housing_test_decrypted.csv')\n",
        "  \n",
        "# Doing primitive string comparison to\n",
        "# check whether the two hashes match or not\n",
        "if Initial_hash == Decrypted_hash:\n",
        "    print(\"Both files are same\")\n",
        "    print(f\"Hash: {Initial_hash}\")\n",
        "else:\n",
        "    print(\"Files are different!\")\n",
        "    print(f\"Hash of File 1: {Initial_hash}\")\n",
        "    print(f\"Hash of File 2: {Decrypted_hash}\")"
      ],
      "execution_count": null,
      "outputs": []
    }
  ]
}