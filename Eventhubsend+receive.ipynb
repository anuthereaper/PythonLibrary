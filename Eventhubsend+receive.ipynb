{
  "nbformat": 4,
  "nbformat_minor": 0,
  "metadata": {
    "colab": {
      "name": "Eventhubsend+receive.ipynb",
      "provenance": [],
      "collapsed_sections": [],
      "authorship_tag": "ABX9TyOgnFTXz6OvUo2f8tT+Ajt7",
      "include_colab_link": true
    },
    "kernelspec": {
      "name": "python3",
      "display_name": "Python 3"
    },
    "language_info": {
      "name": "python"
    }
  },
  "cells": [
    {
      "cell_type": "markdown",
      "metadata": {
        "id": "view-in-github",
        "colab_type": "text"
      },
      "source": [
        "<a href=\"https://colab.research.google.com/github/anuthereaper/PythonLibrary/blob/main/Eventhubsend%2Breceive.ipynb\" target=\"_parent\"><img src=\"https://colab.research.google.com/assets/colab-badge.svg\" alt=\"Open In Colab\"/></a>"
      ]
    },
    {
      "cell_type": "code",
      "metadata": {
        "id": "_36bQre48V0n"
      },
      "source": [
        "pip install azure-eventhub"
      ],
      "execution_count": null,
      "outputs": []
    },
    {
      "cell_type": "code",
      "metadata": {
        "id": "7M-E43kupB-M"
      },
      "source": [
        "#from google.colab import drive\n",
        "#drive.mount('/content/drive')"
      ],
      "execution_count": null,
      "outputs": []
    },
    {
      "cell_type": "code",
      "metadata": {
        "colab": {
          "base_uri": "https://localhost:8080/"
        },
        "id": "4VRcE3G4YVBC",
        "outputId": "b8b5efba-1c7b-4ad6-e7ea-e7017cafdf91"
      },
      "source": [
        "import time\n",
        "import os\n",
        "from azure.eventhub import EventHubProducerClient, EventData\n",
        "from azure.eventhub.exceptions import EventHubError\n",
        "\n",
        "CONNECTION_STR = \"Endpoint=sb://\"\n",
        "EVENTHUB_NAME = \"xxxxxxxxxx\"\n",
        "\n",
        "\n",
        "def send_event_data_batch(producer,message):\n",
        "    # Without specifying partition_id or partition_key\n",
        "    # the events will be distributed to available partitions via round-robin.\n",
        "    event_data_batch = producer.create_batch()\n",
        "    event_data_batch.add(EventData(message))\n",
        "    producer.send_batch(event_data_batch)\n",
        "\n",
        "\n",
        "def send_event_data_batch_with_limited_size(producer,max_size):\n",
        "    # Without specifying partition_id or partition_key\n",
        "    # the events will be distributed to available partitions via round-robin.\n",
        "    event_data_batch_with_limited_size = producer.create_batch(max_size_in_bytes=max_size)\n",
        "\n",
        "    while True:\n",
        "        try:\n",
        "            event_data_batch_with_limited_size.add(EventData('Message inside EventBatchData'))\n",
        "        except ValueError:\n",
        "            # EventDataBatch object reaches max_size.\n",
        "            # New EventDataBatch object can be created here to send more data.\n",
        "            break\n",
        "\n",
        "    producer.send_batch(event_data_batch_with_limited_size)\n",
        "\n",
        "\n",
        "def send_event_data_batch_with_partition_key(producer,message,key):\n",
        "    # Specifying partition_key.\n",
        "    event_data_batch_with_partition_key = producer.create_batch(partition_key=key)\n",
        "    event_data_batch_with_partition_key.add(EventData(message))\n",
        "\n",
        "    producer.send_batch(event_data_batch_with_partition_key)\n",
        "\n",
        "def send_event_data_batch_with_partition_id(producer,message,id):\n",
        "    # Specifying partition_id.\n",
        "    event_data_batch_with_partition_id = producer.create_batch(partition_id=id)\n",
        "    event_data_batch_with_partition_id.add(EventData(message))\n",
        "\n",
        "    producer.send_batch(event_data_batch_with_partition_id)\n",
        "\n",
        "def send_event_data_batch_with_properties(producer,message):\n",
        "    event_data_batch = producer.create_batch()\n",
        "    event_data = EventData(message)\n",
        "    event_data.properties = {'prop_key': 'prop_value'}\n",
        "    event_data_batch.add(event_data)\n",
        "    producer.send_batch(event_data_batch)\n",
        "\n",
        "def send_event_data_list(producer):\n",
        "    # If you know beforehand that the list of events you have will not exceed the\n",
        "    # size limits, you can use the `send_batch()` api directly without creating an EventDataBatch\n",
        "\n",
        "    # Without specifying partition_id or partition_key\n",
        "    # the events will be distributed to available partitions via round-robin.\n",
        "\n",
        "    event_data_list = [EventData('Event Data {}'.format(i)) for i in range(10)]\n",
        "    try:\n",
        "        producer.send_batch(event_data_list)\n",
        "    except ValueError:  # Size exceeds limit. This shouldn't happen if you make sure before hand.\n",
        "        print(\"Size of the event data list exceeds the size limit of a single send\")\n",
        "    except EventHubError as eh_err:\n",
        "        print(\"Sending error: \", eh_err)\n",
        "\n",
        "\n",
        "producer = EventHubProducerClient.from_connection_string(\n",
        "    conn_str=CONNECTION_STR,\n",
        "    eventhub_name=EVENTHUB_NAME\n",
        ")\n",
        "\n",
        "start_time = time.time()\n",
        "with producer:\n",
        "    send_event_data_batch(producer,'Single message')\n",
        "    send_event_data_batch_with_limited_size(producer,1000)\n",
        "    send_event_data_batch_with_partition_key(producer,'Message will be sent to a partition determined by the partition key','pkey')\n",
        "    send_event_data_batch_with_partition_id(producer,'Message will be sent to target-id partition',0)\n",
        "    send_event_data_batch_with_properties(producer,'Message with properties')\n",
        "    send_event_data_list(producer)\n",
        "\n",
        "print(\"Send messages in {} seconds.\".format(time.time() - start_time))"
      ],
      "execution_count": null,
      "outputs": [
        {
          "output_type": "stream",
          "name": "stdout",
          "text": [
            "Send messages in 13.098610162734985 seconds.\n"
          ]
        }
      ]
    },
    {
      "cell_type": "code",
      "metadata": {
        "id": "9mpZ0Cod9uDw"
      },
      "source": [
        "# Event hub receiver\n",
        "\n",
        "import os\n",
        "from azure.eventhub import EventHubConsumerClient\n",
        "\n",
        "CONNECTION_STR = \"Endpoint=sb://xxxxxxxxxx.servicebus.windows.net/;SharedAccessKeyName=master;SharedAccessKey=xxxxxxxx\"\n",
        "EVENTHUB_NAME = \"anueventhub\"\n",
        "\n",
        "\n",
        "def on_event(partition_context, event):\n",
        "    # Put your code here.\n",
        "    # If the operation is i/o intensive, multi-thread will have better performance.\n",
        "#    print(\"Received event from partition: {}.\".format(partition_context.partition_id))\n",
        "    print(\"Received the event: {} from the partition with ID: {}\".format(event.body_as_str(encoding='UTF-8'), partition_context.partition_id))\n",
        "\n",
        "\n",
        "def on_partition_initialize(partition_context):\n",
        "    # Put your code here.\n",
        "    print(\"Partition: {} has been initialized.\".format(partition_context.partition_id))\n",
        "\n",
        "\n",
        "def on_partition_close(partition_context, reason):\n",
        "    # Put your code here.\n",
        "    print(\"Partition: {} has been closed, reason for closing: {}.\".format(\n",
        "        partition_context.partition_id,\n",
        "        reason\n",
        "    ))\n",
        "\n",
        "\n",
        "def on_error(partition_context, error):\n",
        "    # Put your code here. partition_context can be None in the on_error callback.\n",
        "    if partition_context:\n",
        "        print(\"An exception: {} occurred during receiving from Partition: {}.\".format(\n",
        "            partition_context.partition_id,\n",
        "            error\n",
        "        ))\n",
        "    else:\n",
        "        print(\"An exception: {} occurred during the load balance process.\".format(error))\n",
        "\n",
        "\n",
        "if __name__ == '__main__':\n",
        "    consumer_client = EventHubConsumerClient.from_connection_string(\n",
        "        conn_str=CONNECTION_STR,\n",
        "        consumer_group='$Default',\n",
        "        eventhub_name=EVENTHUB_NAME,\n",
        "    )\n",
        "\n",
        "    try:\n",
        "        with consumer_client:\n",
        "            consumer_client.receive(\n",
        "                on_event=on_event,\n",
        "                on_partition_initialize=on_partition_initialize,\n",
        "                on_partition_close=on_partition_close,\n",
        "                on_error=on_error,\n",
        "                starting_position=\"-1\",  # \"-1\" is from the beginning of the partition.\n",
        "            )\n",
        "    except KeyboardInterrupt:\n",
        "        print('Stopped receiving.')"
      ],
      "execution_count": null,
      "outputs": []
    }
  ]
}