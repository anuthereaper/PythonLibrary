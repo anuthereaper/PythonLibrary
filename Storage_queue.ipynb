{
  "nbformat": 4,
  "nbformat_minor": 0,
  "metadata": {
    "colab": {
      "name": "Storage queue.ipynb",
      "provenance": [],
      "collapsed_sections": [],
      "mount_file_id": "17z6OMgWvp50EbuNqHpjSqreb21Ev2Gql",
      "authorship_tag": "ABX9TyPksvFXO6S6T+YIBfW+LIWK",
      "include_colab_link": true
    },
    "kernelspec": {
      "name": "python3",
      "display_name": "Python 3"
    },
    "language_info": {
      "name": "python"
    }
  },
  "cells": [
    {
      "cell_type": "markdown",
      "metadata": {
        "id": "view-in-github",
        "colab_type": "text"
      },
      "source": [
        "<a href=\"https://colab.research.google.com/github/anuthereaper/PythonLibrary/blob/main/Storage_queue.ipynb\" target=\"_parent\"><img src=\"https://colab.research.google.com/assets/colab-badge.svg\" alt=\"Open In Colab\"/></a>"
      ]
    },
    {
      "cell_type": "code",
      "metadata": {
        "id": "FTax-1Cs5ca4"
      },
      "source": [
        "pip install azure.storage.queue"
      ],
      "execution_count": null,
      "outputs": []
    },
    {
      "cell_type": "code",
      "metadata": {
        "id": "0g1e7bkeqbqz"
      },
      "source": [
        "pip install aiohttp"
      ],
      "execution_count": null,
      "outputs": []
    },
    {
      "cell_type": "code",
      "metadata": {
        "id": "XiVbDFhh55-R"
      },
      "source": [
        "#Write a single message to to storage queue using storage key \n",
        "from azure.storage.queue import (\n",
        "        QueueClient,\n",
        "        BinaryBase64EncodePolicy,\n",
        "        BinaryBase64DecodePolicy\n",
        ")\n",
        "#import os, uuid\n",
        "import asyncio\n",
        "from azure.storage.queue.aio import QueueClient as QueueClientasync \n",
        "\n",
        "\n",
        "accountname = \"anustorage1980\"\n",
        "accountkey = <account_key>\n",
        "queue_name = \"myqueue\" \n",
        "msg_per_page = 10\n",
        "\n",
        "connect_str = \"DefaultEndpointsProtocol=https;AccountName=\" + accountname + \";AccountKey=\" + accountkey + \";EndpointSuffix=core.windows.net\"\n",
        "q_name = queue_name\n",
        "queue_client = QueueClient.from_connection_string(connect_str, q_name)\n",
        "\n",
        "# Setup Base64 encoding and decoding functions\n",
        "base64_queue_client = QueueClient.from_connection_string(\n",
        "                            conn_str=connect_str, queue_name=q_name,\n",
        "                            message_encode_policy = BinaryBase64EncodePolicy(),\n",
        "                            message_decode_policy = BinaryBase64DecodePolicy())\n",
        "def Queue_send(message):\n",
        "    print(\"Adding message: \" + message)\n",
        "    queue_client.send_message(message)\n",
        "\n",
        "def Queue_send_b64(message):\n",
        "    print(\"Adding b64 message: \" + message)  \n",
        "    base64_queue_client.send_message(bytes(message,'utf-8'))\n",
        "\n",
        "def Queue_receive():\n",
        "    response = queue_client.receive_messages()\n",
        "    for message in response:\n",
        "        print(\"Received message : \" + message.content)\n",
        "        queue_client.delete_message(message)\n",
        "\n",
        "def Queue_receive_inbatch(msg_per_page):\n",
        "    response = queue_client.receive_messages(messages_per_page=msg_per_page)\n",
        "\n",
        "    for message_batch in response.by_page():\n",
        "        for message in message_batch:\n",
        "            print(\"Received paged message : \" + message.content)\n",
        "            queue_client.delete_message(message)\n",
        "\n",
        "\n",
        "Queue_send(\"{'OU' : 'UK', 'DB' : 'Shell_uk', 'TEST' : 'NORMAL_SEND'}\")\n",
        "Queue_send_b64(\"{'OU' : 'UK', 'DB' : 'Shell_uk', 'TEST' : 'B64_SEND'}\")\n",
        "Queue_receive()\n",
        "Queue_send(\"{'OU' : 'UK', 'DB' : 'Shell_uk', 'TEST' : 'PAGED_SEND'}\")\n",
        "Queue_receive_inbatch(msg_per_page)"
      ],
      "execution_count": null,
      "outputs": []
    },
    {
      "cell_type": "code",
      "metadata": {
        "id": "FTZjlCBKkMQi"
      },
      "source": [
        "pip install names"
      ],
      "execution_count": null,
      "outputs": []
    },
    {
      "cell_type": "code",
      "metadata": {
        "id": "18sj9blLjGRD"
      },
      "source": [
        "# SEND MANY MESSAGES TO QUEUE\n",
        "from random import randrange\n",
        "import random\n",
        "import names\n",
        "import json\n",
        "from datetime import datetime\n",
        "from datetime import timedelta\n",
        "from azure.storage.queue import (\n",
        "        QueueClient,\n",
        "        BinaryBase64EncodePolicy,\n",
        "        BinaryBase64DecodePolicy\n",
        ")\n",
        "import uuid\n",
        "\n",
        "accountname = \"anustorage1980\"\n",
        "accountkey = <account_key>\n",
        "q_name = \"myqueue\" \n",
        "Number_of_docs = 10\n",
        "d1 = datetime.strptime('1/1/2008 1:30 PM', '%m/%d/%Y %I:%M %p')\n",
        "d2 = datetime.strptime('1/1/2009 4:50 AM', '%m/%d/%Y %I:%M %p')\n",
        "\n",
        "def random_date(start, end):\n",
        "    \"\"\"\n",
        "    This function will return a random datetime between two datetime \n",
        "    objects.\n",
        "    \"\"\"\n",
        "    delta = end - start\n",
        "    int_delta = (delta.days * 24 * 60 * 60) + delta.seconds\n",
        "    random_second = randrange(int_delta)\n",
        "    return start + timedelta(seconds=random_second)\n",
        "\n",
        "def Create_Record(item_id):\n",
        "    \"\"\"\n",
        "    This function will return a service bus message with random data.\n",
        "    \"\"\"\n",
        "    doc_body = {'id' : str(uuid.uuid4()),\n",
        "            'employee_id' : str(id),\n",
        "            'first_name' : names.get_first_name(),\n",
        "            'last_name' : names.get_last_name(),\n",
        "            'regn_no' : 'TEST00000000' + str(item_id),\n",
        "            'start_date' : str(random_date(d1,d2)),\n",
        "            'salary' : str(random.randint(12000, 2000000)),\n",
        "            'inserted_at' : str(datetime.now())\n",
        "            }\n",
        "    json_object = json.dumps(doc_body, indent = 4) \n",
        "    return(json_object)\n",
        "#    return bytes(json_object,'utf-8')\n",
        "\n",
        "connect_str = \"DefaultEndpointsProtocol=https;AccountName=\" + accountname + \";AccountKey=\" + accountkey + \";EndpointSuffix=core.windows.net\"\n",
        "q_name = queue_name\n",
        "queue_client = QueueClient.from_connection_string(connect_str, q_name)\n",
        "# Setup Base64 encoding and decoding functions\n",
        "base64_queue_client = QueueClient.from_connection_string(\n",
        "                            conn_str=connect_str, queue_name=q_name,\n",
        "                            message_encode_policy = BinaryBase64EncodePolicy(),\n",
        "                            message_decode_policy = BinaryBase64DecodePolicy())\n",
        "\n",
        "starttime = datetime.utcnow()\n",
        "print(\"Starting ingestion: \", starttime.strftime(\"%Y-%m-%d %H:%M:%S.%f\"))\n",
        "for i in range (Number_of_docs):\n",
        "    message = Create_Record(i)\n",
        "#    queue_client.send_message(message)\n",
        "    base64_queue_client.send_message(bytes(message,'utf-8'))\n",
        "    if (i+1)%100 == 0 or (i == Number_of_docs-1):\n",
        "         print(str(i+1) + \" documents completed\")\n",
        "\n",
        "endtime = datetime.utcnow()\n",
        "print(\"\\nrun_sample done :\" + endtime.strftime(\"%Y-%m-%d %H:%M:%S.%f\"))\n",
        "print(\"Time taken :\" + str(endtime-starttime))\n",
        "print(\"Number of messages :\" + str(Number_of_docs))"
      ],
      "execution_count": null,
      "outputs": []
    },
    {
      "cell_type": "markdown",
      "metadata": {
        "id": "pif5bAV86cvR"
      },
      "source": [
        "# New Section"
      ]
    }
  ]
}