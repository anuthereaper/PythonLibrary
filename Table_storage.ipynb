{
  "nbformat": 4,
  "nbformat_minor": 0,
  "metadata": {
    "colab": {
      "name": "Table storage.ipynb",
      "provenance": [],
      "collapsed_sections": [],
      "authorship_tag": "ABX9TyOsYcr/50UMai+SVqf6LU/4",
      "include_colab_link": true
    },
    "kernelspec": {
      "name": "python3",
      "display_name": "Python 3"
    },
    "language_info": {
      "name": "python"
    }
  },
  "cells": [
    {
      "cell_type": "markdown",
      "metadata": {
        "id": "view-in-github",
        "colab_type": "text"
      },
      "source": [
        "<a href=\"https://colab.research.google.com/github/anuthereaper/PythonLibrary/blob/main/Table_storage.ipynb\" target=\"_parent\"><img src=\"https://colab.research.google.com/assets/colab-badge.svg\" alt=\"Open In Colab\"/></a>"
      ]
    },
    {
      "cell_type": "code",
      "metadata": {
        "id": "QpRrEXI757qH"
      },
      "source": [
        "pip install azure-data-tables"
      ],
      "execution_count": null,
      "outputs": []
    },
    {
      "cell_type": "code",
      "metadata": {
        "id": "QfUTZ29P74ZL"
      },
      "source": [
        "pip install names"
      ],
      "execution_count": null,
      "outputs": []
    },
    {
      "cell_type": "code",
      "metadata": {
        "id": "Q6BhXft3571i"
      },
      "source": [
        "from azure.core.credentials import AzureNamedKeyCredential\n",
        "from azure.data.tables import TableServiceClient\n",
        "\n",
        "#credential = AzureNamedKeyCredential(\"my_account_name\", \"my_access_key\")\n",
        "#table_service_client = TableServiceClient(endpoint=\"https://<my_account_name>.table.core.windows.net\", credential=credential)\n",
        "\n",
        "connection_string = \"xxxxxxxxxxxxxxxx\"\n",
        "tablename = \"mytable\"\n",
        "\n",
        "table_service_client = TableServiceClient.from_connection_string(conn_str=connection_string)\n",
        "table_client = table_service_client.get_table_client(table_name=tablename)"
      ],
      "execution_count": null,
      "outputs": []
    },
    {
      "cell_type": "code",
      "metadata": {
        "id": "4oc4AFcE_Oa2"
      },
      "source": [
        "#Insert 1 row to table storage\n",
        "from datetime import datetime\n",
        "\n",
        "my_entity = {\n",
        "            \"PartitionKey\": \"color\",\n",
        "            \"RowKey\": \"brand\",\n",
        "            \"text\": \"Marker\",\n",
        "            \"color\": \"Purple\",\n",
        "            \"price\": 4.99,\n",
        "            \"last_updated\": datetime.today(),\n",
        "            \"product_id\": 1234,\n",
        "            \"inventory_count\": 42,\n",
        "            \"barcode\": b\"135aefg8oj0ld58\"\n",
        "        }\n",
        "entity = table_client.create_entity(entity=my_entity)"
      ],
      "execution_count": null,
      "outputs": []
    },
    {
      "cell_type": "code",
      "metadata": {
        "id": "PJVpHFwc579t"
      },
      "source": [
        "#BULK UPLOAD 1 by 1 using the latest datatables SDK.\n",
        "from azure.data.tables import TableServiceClient\n",
        "from datetime import datetime\n",
        "from random import randrange\n",
        "import random\n",
        "import names\n",
        "import json\n",
        "from datetime import timedelta\n",
        "import uuid\n",
        "\n",
        "Number_of_docs = 50\n",
        "d1 = datetime.strptime('1/1/2008 1:30 PM', '%m/%d/%Y %I:%M %p')\n",
        "d2 = datetime.strptime('1/1/2009 4:50 AM', '%m/%d/%Y %I:%M %p')\n",
        "\n",
        "def random_date(start, end):\n",
        "    \"\"\"\n",
        "    This function will return a random datetime between two datetime \n",
        "    objects.\n",
        "    \"\"\"\n",
        "    delta = end - start\n",
        "    int_delta = (delta.days * 24 * 60 * 60) + delta.seconds\n",
        "    random_second = randrange(int_delta)\n",
        "    return start + timedelta(seconds=random_second)\n",
        "\n",
        "def create_entity(id):\n",
        "    my_entity = {\"PartitionKey\" : str(uuid.uuid4()),\n",
        "                \"RowKey\" : str(id),\n",
        "                \"employee_id\" : str(id),\n",
        "                \"first_name\" : names.get_first_name(),\n",
        "                \"last_name\" : names.get_last_name(),\n",
        "                \"regn_no\" : \"TEST00000000\"+ str(id),\n",
        "                \"start_date\" : random_date(d1,d2),\n",
        "                \"salary\" : random.randint(12000, 2000000),\n",
        "                \"inserted_at\" : str(datetime.now())\n",
        "                }\n",
        "    return my_entity\n",
        "\n",
        "starttime = datetime.utcnow()\n",
        "print(\"Starting ingestion: \", starttime.strftime(\"%Y-%m-%d %H:%M:%S.%f\"))\n",
        "for i in range(Number_of_docs):\n",
        "    my_entity = create_entity(i)\n",
        "    entity = table_client.create_entity(entity=my_entity)\n",
        "    if (i+1)%100 == 0 or (i == Number_of_docs-1):\n",
        "        print(str(i+1) + \" documents completed\")\n",
        "\n",
        "endtime = datetime.utcnow()\n",
        "print(\"\\nrun_sample done :\" + endtime.strftime(\"%Y-%m-%d %H:%M:%S.%f\"))\n",
        "print(\"Time taken :\" + str(endtime-starttime))\n",
        "print(\"Number of messages :\" + str(Number_of_docs))"
      ],
      "execution_count": null,
      "outputs": []
    },
    {
      "cell_type": "code",
      "metadata": {
        "id": "Xy6xbzIFz1ry"
      },
      "source": [
        "#BULK UPLOAD USING LATEST TABLE STORAGE API with batching (https://github.com/Azure/azure-sdk-for-python/tree/main/sdk/tables/azure-data-tables/samples)\n",
        "from azure.data.tables import TableClient\n",
        "from datetime import datetime\n",
        "from random import randrange\n",
        "import random\n",
        "import names\n",
        "import json\n",
        "from datetime import timedelta\n",
        "import uuid\n",
        "\n",
        "conn='xxxxxxxxxxxxxx'\n",
        "tablename='mytable'      \n",
        "table_client = TableClient.from_connection_string(conn_str=conn,table_name=tablename)\n",
        "Number_of_docs = 1000\n",
        "d1 = datetime.strptime('1/1/2008 1:30 PM', '%m/%d/%Y %I:%M %p')\n",
        "d2 = datetime.strptime('1/1/2009 4:50 AM', '%m/%d/%Y %I:%M %p')\n",
        "\n",
        "def random_date(start, end):\n",
        "    \"\"\"\n",
        "    This function will return a random datetime between two datetime \n",
        "    objects.\n",
        "    \"\"\"\n",
        "    delta = end - start\n",
        "    int_delta = (delta.days * 24 * 60 * 60) + delta.seconds\n",
        "    random_second = randrange(int_delta)\n",
        "    return start + timedelta(seconds=random_second)\n",
        "\n",
        "def create_entity(id):\n",
        "    my_entity = {\"PartitionKey\" : \"PARTITION1\",\n",
        "                \"RowKey\" : str(id),\n",
        "                \"employee_id\" : str(id),\n",
        "                \"first_name\" : names.get_first_name(),\n",
        "                \"last_name\" : names.get_last_name(),\n",
        "                \"regn_no\" : \"TEST00000000\"+ str(id),\n",
        "                \"start_date\" : random_date(d1,d2),\n",
        "                \"salary\" : random.randint(12000, 2000000),\n",
        "                \"inserted_at\" : str(datetime.now())\n",
        "                }\n",
        "    return my_entity\n",
        "\n",
        "starttime = datetime.utcnow()\n",
        "print(\"Starting ingestion: \", starttime.strftime(\"%Y-%m-%d %H:%M:%S.%f\"))\n",
        "batch_no = 0\n",
        "operations = []\n",
        "for i in range(Number_of_docs):\n",
        "    i = i + 1\n",
        "    batch_no = batch_no + 1\n",
        "    my_entity = create_entity(i)\n",
        "    operations.append((\"upsert\", my_entity))\n",
        "    if (batch_no > 50):\n",
        "        table_client.submit_transaction(operations)\n",
        "        batch_no = 0\n",
        "        operations = []\n",
        "    else:      \n",
        "        batch_no = batch_no + 1\n",
        "    \n",
        "if (batch_no > 0):\n",
        "    table_client.submit_transaction(operations)\n",
        "\n",
        "endtime = datetime.utcnow()\n",
        "print(\"\\nrun_sample done :\" + endtime.strftime(\"%Y-%m-%d %H:%M:%S.%f\"))\n",
        "print(\"Time taken :\" + str(endtime-starttime))\n",
        "print(\"Number of messages :\" + str(Number_of_docs))"
      ],
      "execution_count": null,
      "outputs": []
    },
    {
      "cell_type": "code",
      "metadata": {
        "id": "esUQJWoo4sbB"
      },
      "source": [
        "#SINGLE QUERY TABLE STORAGE \n",
        "#(https://github.com/Azure/azure-sdk-for-python/tree/main/sdk/tables/azure-data-tables/samples)\n",
        "from azure.data.tables import TableClient\n",
        "\n",
        "conn='xxxxxxxxxxxxxxxxxx'\n",
        "tablename='mytable'      \n",
        "table_client = TableClient.from_connection_string(conn_str=conn,table_name=tablename)\n",
        "\n",
        "starttime = datetime.utcnow()\n",
        "parameters = {u\"firstname\": u\"Vikki\"}\n",
        "name_filter = u\"first_name eq @firstname\"\n",
        "queried_entities = table_client.query_entities(query_filter=name_filter, select=[u\"last_name\", u\"salary\"], parameters=parameters)\n",
        "\n",
        "for entity_chosen in queried_entities:\n",
        "    print(entity_chosen)\n",
        "\n",
        "endtime = datetime.utcnow()\n",
        "print(\"\\nrun_sample done :\" + endtime.strftime(\"%Y-%m-%d %H:%M:%S.%f\"))\n",
        "print(\"Time taken :\" + str(endtime-starttime))"
      ],
      "execution_count": null,
      "outputs": []
    },
    {
      "cell_type": "code",
      "metadata": {
        "id": "-9yoJTx36C9K"
      },
      "source": [
        "#LOAD TEST QUERYING MULTIPLE ENTITIES FROM TABLE STORAGE\n",
        "#(https://github.com/Azure/azure-sdk-for-python/tree/main/sdk/tables/azure-data-tables/samples)\n",
        "from azure.data.tables import TableClient\n",
        "from datetime import datetime\n",
        "import json\n",
        "from datetime import timedelta\n",
        "\n",
        "conn='DefaultEndpointsProtocol=xxxxxxxxxxxxxxxxxxx=;EndpointSuffix=core.windows.net'\n",
        "tablename='xxxxxxxxxx'      \n",
        "table_client = TableClient.from_connection_string(conn_str=conn,table_name=tablename)\n",
        "Number_of_docs = 100\n",
        "\n",
        "\n",
        "def random_date(start, end):\n",
        "    \"\"\"\n",
        "    This function will return a random datetime between two datetime \n",
        "    objects.\n",
        "    \"\"\"\n",
        "    delta = end - start\n",
        "    int_delta = (delta.days * 24 * 60 * 60) + delta.seconds\n",
        "    random_second = randrange(int_delta)\n",
        "    return start + timedelta(seconds=random_second)\n",
        "\n",
        "def create_entity(id):\n",
        "    my_entity = {\"PartitionKey\" : \"PARTITION1\",\n",
        "                \"RowKey\" : str(id),\n",
        "                \"employee_id\" : str(id),\n",
        "                \"first_name\" : names.get_first_name(),\n",
        "                \"last_name\" : names.get_last_name(),\n",
        "                \"regn_no\" : \"TEST00000000\"+ str(id),\n",
        "                \"start_date\" : random_date(d1,d2),\n",
        "                \"salary\" : random.randint(12000, 2000000),\n",
        "                \"inserted_at\" : str(datetime.now())\n",
        "                }\n",
        "    return my_entity\n",
        "\n",
        "starttime = datetime.utcnow()\n",
        "print(\"Starting ingestion: \", starttime.strftime(\"%Y-%m-%d %H:%M:%S.%f\"))\n",
        "\n",
        "for i in range(Number_of_docs):\n",
        "    parameters = {u\"employeeid\": str(i)}\n",
        "    name_filter = u\"employee_id eq @employeeid\"\n",
        "    queried_entities = table_client.query_entities(query_filter=name_filter, select=[u\"first_name\", \"last_name\", \"salary\"], parameters=parameters)\n",
        "    for entity_chosen in queried_entities:\n",
        "        print(entity_chosen)\n",
        "\n",
        "endtime = datetime.utcnow()\n",
        "print(\"\\nrun_sample done :\" + endtime.strftime(\"%Y-%m-%d %H:%M:%S.%f\"))\n",
        "print(\"Total time taken :\" + str(endtime-starttime))\n",
        "print(\"Number of messages :\" + str(Number_of_docs))\n",
        "print(\"Avg time for each query :\" + str((endtime-starttime)/Number_of_docs))"
      ],
      "execution_count": null,
      "outputs": []
    },
    {
      "cell_type": "code",
      "metadata": {
        "id": "6GeHgFg3t1UY"
      },
      "source": [
        "# DELETE A SINGLE ENTITY FROM TABLE STORAGE\n",
        "#(https://github.com/Azure/azure-sdk-for-python/tree/main/sdk/tables/azure-data-tables/samples)\n",
        "from azure.data.tables import TableClient\n",
        "from datetime import datetime\n",
        "import json\n",
        "from datetime import timedelta\n",
        "\n",
        "conn='xxxxxxxxxxxxxxxxxxxxxxxxxx'\n",
        "tablename='mytable'      \n",
        "table_client = TableClient.from_connection_string(conn_str=conn,table_name=tablename)\n",
        "PartitionKey = 'PARTITION1'\n",
        "RowKey = str(1)\n",
        "\n",
        "table_client.delete_entity(row_key=RowKey, partition_key=PartitionKey)\n",
        "print(\"Successfully deleted!\")"
      ],
      "execution_count": null,
      "outputs": []
    }
  ]
}