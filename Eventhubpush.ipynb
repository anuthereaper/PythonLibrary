{
  "nbformat": 4,
  "nbformat_minor": 0,
  "metadata": {
    "colab": {
      "name": "Eventhubpush.ipynb",
      "provenance": [],
      "collapsed_sections": [],
      "authorship_tag": "ABX9TyNm/jkxsU6OapT1emTrynvv",
      "include_colab_link": true
    },
    "kernelspec": {
      "name": "python3",
      "display_name": "Python 3"
    },
    "language_info": {
      "name": "python"
    }
  },
  "cells": [
    {
      "cell_type": "markdown",
      "metadata": {
        "id": "view-in-github",
        "colab_type": "text"
      },
      "source": [
        "<a href=\"https://colab.research.google.com/github/anuthereaper/PythonLibrary/blob/main/Eventhubpush.ipynb\" target=\"_parent\"><img src=\"https://colab.research.google.com/assets/colab-badge.svg\" alt=\"Open In Colab\"/></a>"
      ]
    },
    {
      "cell_type": "code",
      "metadata": {
        "id": "_36bQre48V0n"
      },
      "source": [
        "pip install azure-eventhub"
      ],
      "execution_count": null,
      "outputs": []
    },
    {
      "cell_type": "code",
      "metadata": {
        "id": "7M-E43kupB-M"
      },
      "source": [
        "#from google.colab import drive\n",
        "#drive.mount('/content/drive')"
      ],
      "execution_count": null,
      "outputs": []
    },
    {
      "cell_type": "code",
      "metadata": {
        "colab": {
          "base_uri": "https://localhost:8080/"
        },
        "id": "4VRcE3G4YVBC",
        "outputId": "b8b5efba-1c7b-4ad6-e7ea-e7017cafdf91"
      },
      "source": [
        "import time\n",
        "import os\n",
        "from azure.eventhub import EventHubProducerClient, EventData\n",
        "from azure.eventhub.exceptions import EventHubError\n",
        "\n",
        "CONNECTION_STR = \"Endpoint=sb://\"\n",
        "EVENTHUB_NAME = \"xxxxxxxxxx\"\n",
        "\n",
        "\n",
        "def send_event_data_batch(producer):\n",
        "    # Without specifying partition_id or partition_key\n",
        "    # the events will be distributed to available partitions via round-robin.\n",
        "    event_data_batch = producer.create_batch()\n",
        "    event_data_batch.add(EventData('Single message'))\n",
        "    producer.send_batch(event_data_batch)\n",
        "\n",
        "\n",
        "def send_event_data_batch_with_limited_size(producer):\n",
        "    # Without specifying partition_id or partition_key\n",
        "    # the events will be distributed to available partitions via round-robin.\n",
        "    event_data_batch_with_limited_size = producer.create_batch(max_size_in_bytes=1000)\n",
        "\n",
        "    while True:\n",
        "        try:\n",
        "            event_data_batch_with_limited_size.add(EventData('Message inside EventBatchData'))\n",
        "        except ValueError:\n",
        "            # EventDataBatch object reaches max_size.\n",
        "            # New EventDataBatch object can be created here to send more data.\n",
        "            break\n",
        "\n",
        "    producer.send_batch(event_data_batch_with_limited_size)\n",
        "\n",
        "\n",
        "def send_event_data_batch_with_partition_key(producer):\n",
        "    # Specifying partition_key.\n",
        "    event_data_batch_with_partition_key = producer.create_batch(partition_key='pkey')\n",
        "    event_data_batch_with_partition_key.add(EventData('Message will be sent to a partition determined by the partition key'))\n",
        "\n",
        "    producer.send_batch(event_data_batch_with_partition_key)\n",
        "\n",
        "\n",
        "def send_event_data_batch_with_partition_id(producer):\n",
        "    # Specifying partition_id.\n",
        "    event_data_batch_with_partition_id = producer.create_batch(partition_id='0')\n",
        "    event_data_batch_with_partition_id.add(EventData('Message will be sent to target-id partition'))\n",
        "\n",
        "    producer.send_batch(event_data_batch_with_partition_id)\n",
        "\n",
        "\n",
        "def send_event_data_batch_with_properties(producer):\n",
        "    event_data_batch = producer.create_batch()\n",
        "    event_data = EventData('Message with properties')\n",
        "    event_data.properties = {'prop_key': 'prop_value'}\n",
        "    event_data_batch.add(event_data)\n",
        "    producer.send_batch(event_data_batch)\n",
        "\n",
        "\n",
        "def send_event_data_list(producer):\n",
        "    # If you know beforehand that the list of events you have will not exceed the\n",
        "    # size limits, you can use the `send_batch()` api directly without creating an EventDataBatch\n",
        "\n",
        "    # Without specifying partition_id or partition_key\n",
        "    # the events will be distributed to available partitions via round-robin.\n",
        "\n",
        "    event_data_list = [EventData('Event Data {}'.format(i)) for i in range(10)]\n",
        "    try:\n",
        "        producer.send_batch(event_data_list)\n",
        "    except ValueError:  # Size exceeds limit. This shouldn't happen if you make sure before hand.\n",
        "        print(\"Size of the event data list exceeds the size limit of a single send\")\n",
        "    except EventHubError as eh_err:\n",
        "        print(\"Sending error: \", eh_err)\n",
        "\n",
        "\n",
        "producer = EventHubProducerClient.from_connection_string(\n",
        "    conn_str=CONNECTION_STR,\n",
        "    eventhub_name=EVENTHUB_NAME\n",
        ")\n",
        "\n",
        "start_time = time.time()\n",
        "with producer:\n",
        "    send_event_data_batch(producer)\n",
        "    send_event_data_batch_with_limited_size(producer)\n",
        "    send_event_data_batch_with_partition_key(producer)\n",
        "    send_event_data_batch_with_partition_id(producer)\n",
        "    send_event_data_batch_with_properties(producer)\n",
        "    send_event_data_list(producer)\n",
        "\n",
        "print(\"Send messages in {} seconds.\".format(time.time() - start_time))"
      ],
      "execution_count": null,
      "outputs": [
        {
          "output_type": "stream",
          "name": "stdout",
          "text": [
            "Send messages in 13.098610162734985 seconds.\n"
          ]
        }
      ]
    },
    {
      "cell_type": "code",
      "metadata": {
        "id": "9mpZ0Cod9uDw"
      },
      "source": [
        ""
      ],
      "execution_count": null,
      "outputs": []
    }
  ]
}