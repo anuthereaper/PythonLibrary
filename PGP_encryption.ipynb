{
  "nbformat": 4,
  "nbformat_minor": 0,
  "metadata": {
    "colab": {
      "name": "PGP encryption.ipynb",
      "provenance": [],
      "collapsed_sections": [],
      "authorship_tag": "ABX9TyMOGIS4ytkBfkriuc2jQpFZ",
      "include_colab_link": true
    },
    "kernelspec": {
      "name": "python3",
      "display_name": "Python 3"
    },
    "language_info": {
      "name": "python"
    }
  },
  "cells": [
    {
      "cell_type": "markdown",
      "metadata": {
        "id": "view-in-github",
        "colab_type": "text"
      },
      "source": [
        "<a href=\"https://colab.research.google.com/github/anuthereaper/PythonLibrary/blob/main/PGP_encryption.ipynb\" target=\"_parent\"><img src=\"https://colab.research.google.com/assets/colab-badge.svg\" alt=\"Open In Colab\"/></a>"
      ]
    },
    {
      "cell_type": "code",
      "metadata": {
        "id": "EGeGIx_29yDU"
      },
      "source": [
        "pip install pgpy"
      ],
      "execution_count": null,
      "outputs": []
    },
    {
      "cell_type": "code",
      "metadata": {
        "id": "VqkfpBNV9-pC"
      },
      "source": [
        "import pgpy\n",
        "from pgpy.constants import PubKeyAlgorithm, KeyFlags, HashAlgorithm, SymmetricKeyAlgorithm, CompressionAlgorithm\n",
        "from timeit import default_timer as timer\n",
        "import base64\n",
        "\n",
        "# we can start by generating a primary key. For this example, we'll use RSA, but it could be DSA or ECDSA as well\n",
        "key = pgpy.PGPKey.new(PubKeyAlgorithm.RSAEncryptOrSign, 4096)\n",
        "# we now have some key material, but our new key doesn't have a user ID yet, and therefore is not yet usable!\n",
        "uid = pgpy.PGPUID.new('testname', comment='PGP Assignment', email='testname@abc.com')\n",
        "# now we must add the new user id to the key. We'll need to specify all of our preferences at this point\n",
        "# because PGPy doesn't have any built-in key preference defaults at this time\n",
        "# this example is similar to GnuPG 2.1.x defaults, with no expiration or preferred keyserver\n",
        "key.add_uid(uid, usage={KeyFlags.Sign, KeyFlags.EncryptCommunications, KeyFlags.EncryptStorage},\n",
        "             hashes=[HashAlgorithm.SHA256, HashAlgorithm.SHA384, HashAlgorithm.SHA512, HashAlgorithm.SHA224],\n",
        "             ciphers=[SymmetricKeyAlgorithm.AES256, SymmetricKeyAlgorithm.AES192, SymmetricKeyAlgorithm.AES128],\n",
        "             compression=[CompressionAlgorithm.ZLIB, CompressionAlgorithm.BZ2, CompressionAlgorithm.ZIP, CompressionAlgorithm.Uncompressed])\n",
        "# assuming we already have a primary key, we can generate a new key and add it as a subkey thusly:\n",
        "subkey = pgpy.PGPKey.new(PubKeyAlgorithm.RSAEncryptOrSign, 4096)\n",
        "# preferences that are specific to the subkey can be chosen here\n",
        "# any preference(s) needed for actions by this subkey that not specified here\n",
        "# will seamlessly \"inherit\" from those specified on the selected User ID\n",
        "key.add_subkey(subkey, usage={KeyFlags.EncryptCommunications})\n",
        "# ASCII armored. To share the key with a 3rd party.\n",
        "#    with open('/dbfs/mnt/anuadlstest/private.asc', \"w\") as csv_file:\n",
        "#      csv_file.write(str(key))\n",
        "with open('/content/sample_data/publickey.asc', \"w\") as csv_file:\n",
        "   csv_file.write(str(key.pubkey))\n",
        "#print(\"Public key in string format :\" + str(key.pubkey))\n",
        "#print(\"Private key in string format :\" + str(key))\n",
        "string_bytes = str(key.pubkey).encode(\"ascii\")\n",
        "publicb64 = base64.b64encode(string_bytes)\n",
        "print(\"Base64 encoded public key : \" + str(publicb64))\n",
        "string_bytes = str(key).encode(\"ascii\")\n",
        "privateb64 = base64.b64encode(string_bytes)\n",
        "print(\"Base64 encoded private key : \" + str(privateb64))"
      ],
      "execution_count": null,
      "outputs": []
    },
    {
      "cell_type": "code",
      "metadata": {
        "id": "cu8a628v-Eu7"
      },
      "source": [
        "#Encrypting a file using public key\n",
        "import pgpy\n",
        "from pgpy.constants import PubKeyAlgorithm, KeyFlags, HashAlgorithm, SymmetricKeyAlgorithm, CompressionAlgorithm\n",
        "from timeit import default_timer as timer\n",
        "import base64 \n",
        "import io\n",
        " \n",
        "KEY_PUB = base64.b64decode(publicb64).decode(\"ascii\").lstrip()  \n",
        "#print(KEY_PUB)\n",
        "\n",
        "pub_key = pgpy.PGPKey()\n",
        "pub_key.parse(KEY_PUB)\n",
        "pass\n",
        "# -READ THE FILE FROM MOUNT POINT-----------------\n",
        "with io.open('/content/sample_data/california_housing_test.csv', \"r\",newline='') as csv_file:\n",
        "    input_data = csv_file.read()                   # The io and newline retains the CRLF\n",
        "    \n",
        "t0 = timer()\n",
        "#PGP Encryption start\n",
        "msg = pgpy.PGPMessage.new(input_data)\n",
        "###### this returns a new PGPMessage that contains an encrypted form of the original message\n",
        "encrypted_message = pub_key.encrypt(msg)\n",
        "pgpstr = str(encrypted_message)\n",
        "with open('/content/sample_data/california_housing_test.csv.pgp', \"w\") as text_file:\n",
        "    text_file.write(pgpstr)\n",
        "print(\"Encryption Complete :\" + str(timer()-t0))"
      ],
      "execution_count": null,
      "outputs": []
    },
    {
      "cell_type": "code",
      "metadata": {
        "id": "pfqGAO5O9-4d"
      },
      "source": [
        "#Decrypting a file using private key\n",
        "import pgpy\n",
        "from pgpy.constants import PubKeyAlgorithm, KeyFlags, HashAlgorithm, SymmetricKeyAlgorithm, CompressionAlgorithm\n",
        "from timeit import default_timer as timer\n",
        "import base64 \n",
        "import io\n",
        " \n",
        "def get_private_key():\n",
        "#    pk_base64 = dbutils.secrets.get(scope = \"PGP\", key = \"pkbase64\")\n",
        "    pk_string = base64.b64decode(privateb64)\n",
        "    pk_string = pk_string.decode(\"ascii\")\n",
        "    return str(pk_string)\n",
        " \n",
        "private_key = get_private_key()\n",
        "KEY_PRIV = private_key.lstrip()\n",
        " \n",
        "priv_key = pgpy.PGPKey()\n",
        "priv_key.parse(KEY_PRIV)\n",
        "pass\n",
        " \n",
        "#PGP Deryption start\n",
        "t0 = timer()\n",
        "message_from_file = pgpy.PGPMessage.from_file('/content/sample_data/california_housing_test.csv.pgp')\n",
        "raw_message = priv_key.decrypt(message_from_file).message\n",
        "with open('/content/sample_data/california_housing_test_pgpdecrypt.csv', \"w\") as csv_file:\n",
        "    csv_file.write(raw_message)\n",
        "print(\"Decryption Complete :\" + str(timer()-t0))"
      ],
      "execution_count": null,
      "outputs": []
    },
    {
      "cell_type": "code",
      "metadata": {
        "id": "Mj7YnkNo-HXn"
      },
      "source": [
        "# This compares the original file with the decrypted file.\n",
        " \n",
        "import sys\n",
        "import hashlib\n",
        " \n",
        "def hashfile(file):\n",
        "    # A arbitrary (but fixed) buffer size (change accordingly)\n",
        "    # 65536 = 65536 bytes = 64 kilobytes\n",
        "    BUF_SIZE = 65536\n",
        "    # Initializing the sha256() method\n",
        "    sha256 = hashlib.sha256()\n",
        "    # Opening the file provided as\n",
        "    # the first commandline argument\n",
        "    with open(file, 'rb') as f:\n",
        "        while True:\n",
        "            # reading data = BUF_SIZE from the file and saving it in a\n",
        "            # variable\n",
        "            data = f.read(BUF_SIZE)\n",
        "            # True if eof = 1\n",
        "            if not data:\n",
        "                break\n",
        "            # Passing that data to that sha256 hash function (updating the function with that data)\n",
        "            sha256.update(data)\n",
        "      \n",
        "    # sha256.hexdigest() hashes all the input\n",
        "    # data passed to the sha256() via sha256.update()\n",
        "    # Acts as a finalize method, after which\n",
        "    # all the input data gets hashed hexdigest()\n",
        "    # hashes the data, and returns the output\n",
        "    # in hexadecimal format\n",
        "    return sha256.hexdigest()\n",
        " \n",
        "# Calling hashfile() function to obtain hashes of the files, and saving the result in a variable\n",
        "Initial_hash = hashfile('/content/sample_data/california_housing_test.csv')\n",
        "Decrypted_hash = hashfile('/content/sample_data/california_housing_test_pgpdecrypt.csv')\n",
        "  \n",
        "# Doing primitive string comparison to\n",
        "# check whether the two hashes match or not\n",
        "if Initial_hash == Decrypted_hash:\n",
        "    print(\"Both files are same\")\n",
        "    print(f\"Hash: {Initial_hash}\")\n",
        "else:\n",
        "    print(\"Files are different!\")\n",
        "    print(f\"Hash of File 1: {Initial_hash}\")\n",
        "    print(f\"Hash of File 2: {Decrypted_hash}\")"
      ],
      "execution_count": null,
      "outputs": []
    }
  ]
}